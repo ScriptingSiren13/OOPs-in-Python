{
 "cells": [
  {
   "cell_type": "code",
   "execution_count": null,
   "id": "029aa8a0-581d-49cf-819b-86d30a0d5aea",
   "metadata": {},
   "outputs": [],
   "source": [
    "# Method overriding is a concept in object-oriented programming where a child class provides\n",
    "# its own implementation of a method that is already defined in its parent class.\n",
    "# The overriding method in the child class must have the same name, parameters, and \n",
    "# signature as the method in the parent class. When an object of the child class calls the method, \n",
    "# the overridden version in the child class is executed, rather than the one in the parent class."
   ]
  },
  {
   "cell_type": "markdown",
   "id": "becef2b4-1451-4fbe-a8c7-dfd0bddb909d",
   "metadata": {},
   "source": [
    "<h1 style='color:#DE006F'>FOR A SUB-CLASS </h1>"
   ]
  },
  {
   "cell_type": "code",
   "execution_count": 2,
   "id": "6bac063a-a113-469a-98f4-d3eac666270d",
   "metadata": {},
   "outputs": [
    {
     "name": "stdout",
     "output_type": "stream",
     "text": [
      "It moves on the road\n",
      "It moves on water\n"
     ]
    }
   ],
   "source": [
    "class Vehicle:\n",
    "    def move(self):\n",
    "        print('It moves on the road');\n",
    "\n",
    "class Boat(Vehicle):\n",
    "    def move(self):\n",
    "        print('It moves on water');\n",
    "\n",
    "car=Vehicle()\n",
    "boat=Boat()\n",
    "\n",
    "car.move()\n",
    "boat.move())"
   ]
  },
  {
   "cell_type": "markdown",
   "id": "0eb12a9d-8639-4504-bd61-7f3264d8e83e",
   "metadata": {},
   "source": [
    "<h1 style='color:#DE006F'>FOR A NORMAL CLASS</h1>"
   ]
  },
  {
   "cell_type": "code",
   "execution_count": null,
   "id": "34e30bc2-8e2c-4dbe-b13c-303acbdf0b78",
   "metadata": {},
   "outputs": [],
   "source": [
    "class Bird:\n",
    "    def sound(self):\n",
    "        print(\"Birds make chirping sounds.\")\n",
    "\n",
    "class Dog:\n",
    "    def sound(self):\n",
    "        print(\"Dogs bark.\")\n",
    "\n",
    "# Polymorphism in action\n",
    "for animal in [Bird(), Dog()]:\n",
    "    animal.sound()"
   ]
  }
 ],
 "metadata": {
  "kernelspec": {
   "display_name": "Python 3 (ipykernel)",
   "language": "python",
   "name": "python3"
  },
  "language_info": {
   "codemirror_mode": {
    "name": "ipython",
    "version": 3
   },
   "file_extension": ".py",
   "mimetype": "text/x-python",
   "name": "python",
   "nbconvert_exporter": "python",
   "pygments_lexer": "ipython3",
   "version": "3.12.4"
  }
 },
 "nbformat": 4,
 "nbformat_minor": 5
}

{
 "cells": [
  {
   "cell_type": "markdown",
   "id": "cff13190-da42-4b27-898d-13f993137fec",
   "metadata": {},
   "source": [
    "<h1 style='color:#DE006F'>SINGLE INHERITANCE</h1>"
   ]
  },
  {
   "cell_type": "code",
   "execution_count": 7,
   "id": "bf5c01fd-8136-43e2-9a75-dc329f2ab3bf",
   "metadata": {},
   "outputs": [
    {
     "name": "stdout",
     "output_type": "stream",
     "text": [
      "Fussy is eating!\n",
      "Fussy is meowing!\n"
     ]
    }
   ],
   "source": [
    "class Animal:    # parent class (or base class)\n",
    "    def __init__(self,name):\n",
    "        self.name=name\n",
    "    def eat(self):\n",
    "     print(f\"{self.name} is eating!\")\n",
    "\n",
    "class Cat(Animal):   #child class (or subclass) that inherits from the Animal class. \n",
    "    def meow(self):\n",
    "        print(f\"{self.name} is meowing!\")\n",
    "\n",
    "cat=Cat('Fussy')   #Creating an Object of the Child Class (Cat)\n",
    "cat.eat()\n",
    "cat.meow()"
   ]
  },
  {
   "cell_type": "code",
   "execution_count": 8,
   "id": "0bb4f8d1-de8e-4e38-ad54-53c0bc5d6233",
   "metadata": {},
   "outputs": [],
   "source": [
    "# The Animal class defines a basic structure for any animal with an __init__ method to set the name and an eat method.\n",
    "# The Cat class is a child class that inherits from Animal, meaning it gets all the methods and properties of Animal, but it also has its own method meow.\n",
    "# The cat object created from the Cat class can access both the inherited eat method and the meow method defined in Cat.\n",
    "# This is an example of single inheritance where one class (the child) inherits from another (the parent)."
   ]
  },
  {
   "cell_type": "code",
   "execution_count": null,
   "id": "d8489cef-a781-4803-9225-dd4666cced0f",
   "metadata": {},
   "outputs": [],
   "source": []
  }
 ],
 "metadata": {
  "kernelspec": {
   "display_name": "Python 3 (ipykernel)",
   "language": "python",
   "name": "python3"
  },
  "language_info": {
   "codemirror_mode": {
    "name": "ipython",
    "version": 3
   },
   "file_extension": ".py",
   "mimetype": "text/x-python",
   "name": "python",
   "nbconvert_exporter": "python",
   "pygments_lexer": "ipython3",
   "version": "3.12.4"
  }
 },
 "nbformat": 4,
 "nbformat_minor": 5
}

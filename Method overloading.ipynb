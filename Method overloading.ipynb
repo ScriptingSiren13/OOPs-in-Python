{
 "cells": [
  {
   "cell_type": "code",
   "execution_count": null,
   "id": "010c49bf-0556-488f-962c-d75f8cbc358e",
   "metadata": {},
   "outputs": [],
   "source": [
    "# Overloading is a concept in object-oriented programming where multiple methods in the same class share\n",
    "# the same name but differ in the number or type of their parameters. This allows a method to perform different\n",
    "# tasks based on the arguments passed to it. Python does not support traditional method overloading like some other\n",
    "# languages (e.g., Java or C++). Instead, it achieves similar functionality using default arguments \n",
    "# or variable-length arguments (*args, **kwargs)."
   ]
  },
  {
   "cell_type": "code",
   "execution_count": 5,
   "id": "6f782aea-20c8-4747-a499-a6bf2724c740",
   "metadata": {},
   "outputs": [
    {
     "name": "stdout",
     "output_type": "stream",
     "text": [
      "13\n",
      "19\n"
     ]
    }
   ],
   "source": [
    "class Calculator:\n",
    "    def add(self,a, b, c=0):\n",
    "        return a + b + c\n",
    "\n",
    "calc= Calculator();\n",
    "print(calc.add(6,7))\n",
    "print(calc.add(9,6,4))"
   ]
  },
  {
   "cell_type": "code",
   "execution_count": null,
   "id": "5b19dad2-d49e-4a1b-ac76-fc1e63ec7d0d",
   "metadata": {},
   "outputs": [],
   "source": []
  }
 ],
 "metadata": {
  "kernelspec": {
   "display_name": "Python 3 (ipykernel)",
   "language": "python",
   "name": "python3"
  },
  "language_info": {
   "codemirror_mode": {
    "name": "ipython",
    "version": 3
   },
   "file_extension": ".py",
   "mimetype": "text/x-python",
   "name": "python",
   "nbconvert_exporter": "python",
   "pygments_lexer": "ipython3",
   "version": "3.12.4"
  }
 },
 "nbformat": 4,
 "nbformat_minor": 5
}

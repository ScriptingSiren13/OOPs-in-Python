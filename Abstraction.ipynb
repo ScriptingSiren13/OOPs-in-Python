{
 "cells": [
  {
   "cell_type": "code",
   "execution_count": null,
   "id": "e9d17659-90ed-4cc9-88a8-b58113f7d77e",
   "metadata": {},
   "outputs": [],
   "source": [
    "# Abstraction is the process of hiding unnecessary implementation details and showing only the essential features of an object. \n",
    "# It focuses on what an object does rather than how it does it. In Python, abstraction can be achieved using \n",
    "# abstract classes and abstract methods provided by the abc module (Abstract Base Class)."
   ]
  },
  {
   "cell_type": "code",
   "execution_count": null,
   "id": "5b0c6837-b618-410f-8fec-fe24ef317d99",
   "metadata": {},
   "outputs": [],
   "source": [
    "# An abstract class is a blueprint for other classes. It can have abstract methods (methods without implementation) \n",
    "# and concrete methods (methods with implementation). A class that inherits an abstract \n",
    "# class must provide an implementation for all its abstract methods.\n",
    "\n"
   ]
  },
  {
   "cell_type": "code",
   "execution_count": 1,
   "id": "da8ad187-b26f-4117-a394-85711cd9aead",
   "metadata": {},
   "outputs": [
    {
     "name": "stdout",
     "output_type": "stream",
     "text": [
      "Dog barks\n",
      "None\n",
      "Cat meows\n",
      "None\n"
     ]
    }
   ],
   "source": [
    "from abc import ABC, abstractmethod\n",
    "\n",
    "# Abstract class\n",
    "class Animal(ABC):\n",
    "    @abstractmethod\n",
    "    def sound(self): \n",
    "        pass;            # Abstract method, no implementation here\n",
    "\n",
    "# Concrete class 1\n",
    "class Dog(Animal):\n",
    "    def sound(self):\n",
    "        print('Dog barks');\n",
    "\n",
    "# Concrete class 2\n",
    "class Cat(Animal):\n",
    "    def sound(self):\n",
    "        print('Cat meows')\n",
    "\n",
    "dog=Dog()\n",
    "cat=Cat()\n",
    "\n",
    "print(dog.sound())\n",
    "print(cat.sound())"
   ]
  },
  {
   "cell_type": "code",
   "execution_count": null,
   "id": "c2c922eb-ff8d-4734-bf8b-cdc0700f205c",
   "metadata": {},
   "outputs": [],
   "source": [
    "# The problem arises because the sound() methods in the Dog and Cat classes use print()\n",
    "# to display messages directly, and when you call print(dog.sound()), it prints the message first (e.g., Dog barks),\n",
    "# but since sound() doesn't return anything, it implicitly returns None, \n",
    "# which is also printed. To fix this, use return in the sound() methods instead of print() so that the print() calls outside the methods display\n",
    "# only the returned string without None."
   ]
  },
  {
   "cell_type": "code",
   "execution_count": 2,
   "id": "1b3ac5cb-2db2-43d5-bbb5-4eb0708295cf",
   "metadata": {},
   "outputs": [
    {
     "name": "stdout",
     "output_type": "stream",
     "text": [
      "Dog barks\n",
      "Cat meows\n"
     ]
    }
   ],
   "source": [
    "from abc import ABC, abstractmethod\n",
    "\n",
    "# Abstract class\n",
    "class Animal(ABC):\n",
    "    @abstractmethod\n",
    "    def sound(self): \n",
    "        pass;            # Abstract method, no implementation here\n",
    "\n",
    "# Concrete class 1\n",
    "class Dog(Animal):\n",
    "    def sound(self):\n",
    "        return 'Dog barks'\n",
    "     \n",
    "\n",
    "# Concrete class 2\n",
    "class Cat(Animal):\n",
    "    def sound(self):\n",
    "        return 'Cat meows'\n",
    "        \n",
    "\n",
    "dog=Dog()\n",
    "cat=Cat()\n",
    "\n",
    "print(dog.sound())\n",
    "print(cat.sound())"
   ]
  },
  {
   "cell_type": "code",
   "execution_count": null,
   "id": "e24a923e-60fc-4761-b31d-eb19fcadaab3",
   "metadata": {},
   "outputs": [],
   "source": []
  }
 ],
 "metadata": {
  "kernelspec": {
   "display_name": "Python 3 (ipykernel)",
   "language": "python",
   "name": "python3"
  },
  "language_info": {
   "codemirror_mode": {
    "name": "ipython",
    "version": 3
   },
   "file_extension": ".py",
   "mimetype": "text/x-python",
   "name": "python",
   "nbconvert_exporter": "python",
   "pygments_lexer": "ipython3",
   "version": "3.12.4"
  }
 },
 "nbformat": 4,
 "nbformat_minor": 5
}

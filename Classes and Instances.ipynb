{
 "cells": [
  {
   "cell_type": "code",
   "execution_count": 1,
   "id": "d5418804-d6e4-4019-b787-575bf2bff8ef",
   "metadata": {},
   "outputs": [],
   "source": [
    "# They allow us to logically group our data so that we can reuse it\n",
    "# methods-function associated with class"
   ]
  },
  {
   "cell_type": "markdown",
   "id": "8982f760-9f19-4aa4-a018-38f3d2ab86f2",
   "metadata": {},
   "source": [
    "<h1 style='color:#DE006F'>CREATING A CLASS</h1>"
   ]
  },
  {
   "cell_type": "code",
   "execution_count": 2,
   "id": "e723a41f-8b35-48a1-885a-8d17c16b16de",
   "metadata": {},
   "outputs": [],
   "source": [
    "# a class is blueprint for creating instance/objects. \n",
    "#It defines the structure and behavior (data and methods) that the objects of that class will have.\n",
    "# They allow us to logically group our data so that we can reuse it\n",
    "# each employee that we will create using the class will be the instance of that class\n",
    "\n",
    "class Employee:    #'Employee' class is defined\n",
    "    pass\n",
    "\n",
    "#we can use 'pass' keyword to "
   ]
  },
  {
   "cell_type": "code",
   "execution_count": null,
   "id": "133b4878-e75d-458c-9e8a-19501d0be711",
   "metadata": {},
   "outputs": [],
   "source": []
  },
  {
   "cell_type": "markdown",
   "id": "12e9be56-d43d-4676-add1-f94f201dd201",
   "metadata": {},
   "source": [
    "<h1 style='color:#DE006F'>CREATING AN INSTANCE</h1>"
   ]
  },
  {
   "cell_type": "code",
   "execution_count": 3,
   "id": "571f134a-9ae1-4eba-8e28-fca4b5fd8eb4",
   "metadata": {},
   "outputs": [],
   "source": [
    "#An instance is an object created from a class. It represents a single, concrete example of the class.\n",
    "# Here emp_1  and emp_2 are the instances\n",
    "emp1=Employee()\n",
    "emp2=Employee()"
   ]
  },
  {
   "cell_type": "markdown",
   "id": "3b860d6c-abd4-47fa-b1ed-99a1b216eec9",
   "metadata": {},
   "source": [
    "<h1 style='color:#DE006F'>CREATING INSTANCE VARIABLES</h1>"
   ]
  },
  {
   "cell_type": "markdown",
   "id": "e8436b7f-f780-4c70-845c-64e7877c363c",
   "metadata": {},
   "source": [
    "<h5>DOING MANUALLY FOR EACH INSTANCE </h5>"
   ]
  },
  {
   "cell_type": "code",
   "execution_count": 4,
   "id": "112c923c-9d16-43a8-bd4b-514fbab1b542",
   "metadata": {},
   "outputs": [
    {
     "name": "stdout",
     "output_type": "stream",
     "text": [
      "Isa\n",
      "Bee\n"
     ]
    }
   ],
   "source": [
    "#Instance variables are variables that belong to an instance of the class. These variables hold data that is unique to each instance.\n",
    "\n",
    "\n",
    "#first, last and pay are the instance variables for the instance 'emp1'\n",
    "emp1.first='Isa'\n",
    "emp1.last='bell'\n",
    "emp1.pay=50000\n",
    "\n",
    "\n",
    "#first, last and pay are the instance variables for the instance 'emp2'\n",
    "emp2.first='Zedd'\n",
    "emp2.last='Bee'\n",
    "emp2.pay=60000\n",
    "\n",
    "print(emp_1.first)\n",
    "print(emp_2.last)"
   ]
  },
  {
   "cell_type": "markdown",
   "id": "b75dfb09-6a0a-4ead-9827-60d39134415d",
   "metadata": {},
   "source": [
    "<h5>DOING USING __innit__ METHOD </h5>"
   ]
  },
  {
   "cell_type": "code",
   "execution_count": 7,
   "id": "857c9300-fb73-4cf5-9139-1ef071666472",
   "metadata": {},
   "outputs": [
    {
     "name": "stdout",
     "output_type": "stream",
     "text": [
      "50000\n",
      "Bee\n"
     ]
    }
   ],
   "source": [
    "#when we create methids inside a class, we recieve the instance as the first argument automatically\n",
    "#and by convention we should call the instance as 'self', you can use some other word as well\n",
    "\n",
    "class Employee:\n",
    "    def __init__(self, first,last,pay):\n",
    "        self.first=first    #this basically means emp1.first='isa'. Not necessary to use this, u can use self.fname=first\n",
    "        self.last=last\n",
    "        self.pay=pay\n",
    "\n",
    "emp1=Employee('Isa','Bella',50000)\n",
    "emp2=Employee('Zedd','Bee',60000)\n",
    "\n",
    "#_init_ method will be called. 'Emp1' will be passed as self\n",
    "\n",
    "print(emp1.pay)\n",
    "print(emp2.last)"
   ]
  },
  {
   "cell_type": "markdown",
   "id": "32a8c7b9-ac0e-4e99-9d02-69bcbe407aa4",
   "metadata": {},
   "source": [
    "<h1 style='color:#DE006F'>ADDING METHODS TO THE CLASS</h1>"
   ]
  },
  {
   "cell_type": "code",
   "execution_count": 13,
   "id": "68a723b7-cba7-4826-ab97-a116d100dfb3",
   "metadata": {},
   "outputs": [
    {
     "name": "stdout",
     "output_type": "stream",
     "text": [
      "Isa Bella\n",
      "Zedd Bee\n"
     ]
    }
   ],
   "source": [
    "class Employee:\n",
    "    def __init__(self,first,last,pay):\n",
    "        self.first=first;\n",
    "        self.last=last;\n",
    "        self.pay=pay\n",
    "\n",
    "\n",
    "    def fullname(self):    #defing the function\n",
    "        return '{} {}'.format(self.first,self.last)\n",
    "        \n",
    "\n",
    "emp1=Employee('Isa','Bella',50000)\n",
    "emp2=Employee('Zedd','Bee',60000)\n",
    "\n",
    "print(emp1.fullname())     #calling the function for 1st instance\n",
    "print(emp2.fullname())     #calling the function for 2nd instance\n",
    "\n",
    "\n"
   ]
  },
  {
   "cell_type": "markdown",
   "id": "84ffd58b-6a75-480b-9025-bdf7171177b5",
   "metadata": {},
   "source": [
    "<h5>If we do not pass 'self' as an argument in the methods of a class</h5>"
   ]
  },
  {
   "cell_type": "code",
   "execution_count": 12,
   "id": "c1023385-1e22-4215-bd08-8dd53626d6a5",
   "metadata": {},
   "outputs": [
    {
     "ename": "TypeError",
     "evalue": "Employee.fullname() takes 0 positional arguments but 1 was given",
     "output_type": "error",
     "traceback": [
      "\u001b[1;31m---------------------------------------------------------------------------\u001b[0m",
      "\u001b[1;31mTypeError\u001b[0m                                 Traceback (most recent call last)",
      "Cell \u001b[1;32mIn[12], line 14\u001b[0m\n\u001b[0;32m     11\u001b[0m emp1\u001b[38;5;241m=\u001b[39mEmployee(\u001b[38;5;124m'\u001b[39m\u001b[38;5;124mIsa\u001b[39m\u001b[38;5;124m'\u001b[39m,\u001b[38;5;124m'\u001b[39m\u001b[38;5;124mBella\u001b[39m\u001b[38;5;124m'\u001b[39m,\u001b[38;5;241m50000\u001b[39m)\n\u001b[0;32m     12\u001b[0m emp2\u001b[38;5;241m=\u001b[39mEmployee(\u001b[38;5;124m'\u001b[39m\u001b[38;5;124mZedd\u001b[39m\u001b[38;5;124m'\u001b[39m,\u001b[38;5;124m'\u001b[39m\u001b[38;5;124mBee\u001b[39m\u001b[38;5;124m'\u001b[39m,\u001b[38;5;241m60000\u001b[39m)\n\u001b[1;32m---> 14\u001b[0m \u001b[38;5;28mprint\u001b[39m(\u001b[43memp1\u001b[49m\u001b[38;5;241;43m.\u001b[39;49m\u001b[43mfullname\u001b[49m\u001b[43m(\u001b[49m\u001b[43m)\u001b[49m)\n",
      "\u001b[1;31mTypeError\u001b[0m: Employee.fullname() takes 0 positional arguments but 1 was given"
     ]
    }
   ],
   "source": [
    "class Employee:\n",
    "    def __init__(self,first,last,pay):\n",
    "        self.first=first;\n",
    "        self.last=last;\n",
    "        self.pay=pay\n",
    "        \n",
    "    def fullname():\n",
    "        return '{} {}'.format(self.first,self.last)\n",
    "        \n",
    "\n",
    "emp1=Employee('Isa','Bella',50000)\n",
    "emp2=Employee('Zedd','Bee',60000)\n",
    "\n",
    "print(emp1.fullname())     \n",
    "\n",
    "\n",
    "\n",
    "# This error means the fullname() method is missing the required self parameter in its definition.\n",
    "# When you call emp1.fullname(), Python automatically passes the instance (emp1) as the first argument to the method.\n",
    "# However, your fullname() method is defined without any parameters,\n",
    "# so Python doesn’t know what to do with the passed instance.\n"
   ]
  },
  {
   "cell_type": "markdown",
   "id": "e9245bc5-cc80-4115-9dcd-b38f27035dc4",
   "metadata": {},
   "source": [
    "<h5>Calling the function using the class</h5>"
   ]
  },
  {
   "cell_type": "code",
   "execution_count": 18,
   "id": "55a8de60-a661-49a9-abd5-8b8fa0ff7961",
   "metadata": {},
   "outputs": [
    {
     "name": "stdout",
     "output_type": "stream",
     "text": [
      "Isa Bella\n",
      "Zedd Bee\n"
     ]
    }
   ],
   "source": [
    "class Employee:\n",
    "    def __init__(self,first,last,pay):\n",
    "        self.first=first;\n",
    "        self.last=last;\n",
    "        self.pay=pay\n",
    "        \n",
    "    def fullname(self):    #defing the function\n",
    "        return '{} {}'.format(self.first,self.last)\n",
    "        \n",
    "\n",
    "emp1=Employee('Isa','Bella',50000)\n",
    "emp2=Employee('Zedd','Bee',60000)\n",
    "\n",
    "print(Employee.fullname(emp1))    #calling the function using the classname\n",
    "print(emp2.fullname())           "
   ]
  },
  {
   "cell_type": "code",
   "execution_count": null,
   "id": "c100bffd-62d1-48c2-ad47-ee36278a566c",
   "metadata": {},
   "outputs": [],
   "source": []
  }
 ],
 "metadata": {
  "kernelspec": {
   "display_name": "Python 3 (ipykernel)",
   "language": "python",
   "name": "python3"
  },
  "language_info": {
   "codemirror_mode": {
    "name": "ipython",
    "version": 3
   },
   "file_extension": ".py",
   "mimetype": "text/x-python",
   "name": "python",
   "nbconvert_exporter": "python",
   "pygments_lexer": "ipython3",
   "version": "3.12.4"
  }
 },
 "nbformat": 4,
 "nbformat_minor": 5
}

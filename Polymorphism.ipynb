{
 "cells": [
  {
   "cell_type": "code",
   "execution_count": 6,
   "id": "b60090c0-816f-4969-b62d-60df3b5876c7",
   "metadata": {},
   "outputs": [
    {
     "name": "stdout",
     "output_type": "stream",
     "text": [
      "Birds make chirping sounds.\n",
      "Dogs bark.\n"
     ]
    }
   ],
   "source": [
    "class Bird:\n",
    "    def sound(self):\n",
    "        print(\"Birds make chirping sounds.\")\n",
    "\n",
    "class Dog:\n",
    "    def sound(self):\n",
    "        print(\"Dogs bark.\")\n",
    "\n",
    "# Polymorphism in action\n",
    "for animal in [Bird(), Dog()]:\n",
    "    animal.sound()"
   ]
  },
  {
   "cell_type": "code",
   "execution_count": null,
   "id": "10fd64c1-0a14-4742-89bb-0e945589305a",
   "metadata": {},
   "outputs": [],
   "source": [
    "# The code demonstrates polymorphism by calling the same method (sound()) on different objects (Bird and Dog), \n",
    "# each implementing the method in a different way.\n",
    "# The sound() method is overridden in both the Bird and Dog classes, and when called on an object, \n",
    "# Python will execute the correct version of the method depending on the object's class.\n",
    "# This approach allows for flexible and scalable code, as you can introduce new classes with different implementations of sound() \n",
    "# without changing the rest of the code that uses the sound() method."
   ]
  },
  {
   "cell_type": "code",
   "execution_count": null,
   "id": "de6f9887-e2de-47e1-97d4-c2700178cd4b",
   "metadata": {},
   "outputs": [],
   "source": [
    "#Both the Bird and Dog classes have their own implementation of the sound() method.\n",
    "#This is an example of method overriding, where a subclass provides its specific implementation of a\n",
    "#method that was defined in a parent class or interface."
   ]
  },
  {
   "cell_type": "markdown",
   "id": "efd9f385-87f8-4f83-8fa0-2563c5624e2a",
   "metadata": {},
   "source": [
    "<h1 style='color:#DE006F'>Inheritance Class Polymorphism</h1>"
   ]
  },
  {
   "cell_type": "code",
   "execution_count": 7,
   "id": "149bad73-3ce7-4920-8507-d2cd2f6b9618",
   "metadata": {},
   "outputs": [
    {
     "name": "stdout",
     "output_type": "stream",
     "text": [
      "Dog barks.\n",
      "Cat meows.\n"
     ]
    }
   ],
   "source": [
    "# Parent class\n",
    "class Animal:\n",
    "    def sound(self):\n",
    "        print(\"Animal makes a sound.\")\n",
    "\n",
    "# Child class 1\n",
    "class Dog(Animal):\n",
    "    def sound(self):\n",
    "        print(\"Dog barks.\")\n",
    "\n",
    "# Child class 2\n",
    "class Cat(Animal):\n",
    "    def sound(self):\n",
    "        print(\"Cat meows.\")\n",
    "\n",
    "# Creating objects of the child classes\n",
    "dog = Dog()\n",
    "cat = Cat()\n",
    "\n",
    "# Using polymorphism to call the same method on different objects\n",
    "for animal in [dog, cat]:\n",
    "    animal.sound()\n"
   ]
  },
  {
   "cell_type": "code",
   "execution_count": null,
   "id": "84a76ac1-3d2e-4a18-acea-a224354ea9e0",
   "metadata": {},
   "outputs": [],
   "source": []
  }
 ],
 "metadata": {
  "kernelspec": {
   "display_name": "Python 3 (ipykernel)",
   "language": "python",
   "name": "python3"
  },
  "language_info": {
   "codemirror_mode": {
    "name": "ipython",
    "version": 3
   },
   "file_extension": ".py",
   "mimetype": "text/x-python",
   "name": "python",
   "nbconvert_exporter": "python",
   "pygments_lexer": "ipython3",
   "version": "3.12.4"
  }
 },
 "nbformat": 4,
 "nbformat_minor": 5
}

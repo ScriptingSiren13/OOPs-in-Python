{
 "cells": [
  {
   "cell_type": "code",
   "execution_count": null,
   "id": "0cb40dba-d32e-4c3f-8448-b42ec7d585b2",
   "metadata": {},
   "outputs": [],
   "source": [
    "#Variables that are shared among all the instances of a class."
   ]
  },
  {
   "cell_type": "markdown",
   "id": "09ea3f8d-3da6-43ef-b9fa-d160aba84cba",
   "metadata": {},
   "source": [
    "<h5>Doing it manually</h5>"
   ]
  },
  {
   "cell_type": "code",
   "execution_count": 2,
   "id": "0b48c315-a801-4219-ab4c-c6896c1a4cba",
   "metadata": {},
   "outputs": [
    {
     "name": "stdout",
     "output_type": "stream",
     "text": [
      "50000\n",
      "52000\n"
     ]
    }
   ],
   "source": [
    "class Employee:\n",
    "    def __init__(self,first,last,pay):\n",
    "        self.first=first;\n",
    "        self.last=last;\n",
    "        self.pay=pay\n",
    "\n",
    "    def fullname(self):    #defing the function\n",
    "        return '{} {}'.format(self.first,self.last)\n",
    "\n",
    "    def apply_raise(self):\n",
    "        self.pay =\n",
    "        int(self.pay * 1.04)\n",
    "        \n",
    "\n",
    "emp1=Employee('Isa','Bella',50000)\n",
    "emp2=Employee('Zedd','Bee',60000)\n",
    "\n",
    "print(emp1.pay)\n",
    "emp1.apply_raise()\n",
    "print(emp1.pay)"
   ]
  },
  {
   "cell_type": "markdown",
   "id": "8976c9b3-405b-47ef-98fe-438a1be7a69f",
   "metadata": {},
   "source": [
    "<h1 style='color:#DE006F'>CREATING A CLASS VARIABLE</h1>"
   ]
  },
  {
   "cell_type": "code",
   "execution_count": null,
   "id": "b177c5c0-45f6-44ae-8289-c4c1fa589e62",
   "metadata": {},
   "outputs": [],
   "source": [
    "#We can access the class variables through the class itself or instance of the class"
   ]
  },
  {
   "cell_type": "markdown",
   "id": "9a7e9cb6-b847-490b-8bb0-a59928dcace4",
   "metadata": {},
   "source": [
    "<H3> Accessing class variable using classname</H3>"
   ]
  },
  {
   "cell_type": "code",
   "execution_count": 3,
   "id": "982878e4-94d7-45e1-bca8-03e937309f99",
   "metadata": {},
   "outputs": [
    {
     "name": "stdout",
     "output_type": "stream",
     "text": [
      "50000\n",
      "52000\n"
     ]
    }
   ],
   "source": [
    "class Employee:\n",
    "    \n",
    "    raise_amount=1.04   #defining the class variable\n",
    "    \n",
    "    def __init__(self,first,last,pay):\n",
    "        self.first=first;\n",
    "        self.last=last;\n",
    "        self.pay=pay\n",
    "\n",
    "    def fullname(self):    #defing the function\n",
    "        return '{} {}'.format(self.first,self.last)\n",
    "\n",
    "    def apply_raise(self):\n",
    "        self.pay =int(self.pay * Employee.raise_amount)   #accessing class variable using classname\n",
    "\n",
    "emp1=Employee('Isa','Bella',50000)\n",
    "emp2=Employee('Zedd','Bee',60000)\n",
    "\n",
    "print(emp1.pay)\n",
    "emp1.apply_raise()\n",
    "print(emp1.pay)"
   ]
  },
  {
   "cell_type": "markdown",
   "id": "e1d28465-fbb8-4c59-93b2-a9bfa88347f1",
   "metadata": {},
   "source": [
    "<H3> Accessing class variable using Instance(self)</H3>"
   ]
  },
  {
   "cell_type": "markdown",
   "id": "4c8dae30-4db2-4ad3-9a18-1a230542599a",
   "metadata": {},
   "source": [
    "<H5>EXAMPLE 1</H5>"
   ]
  },
  {
   "cell_type": "code",
   "execution_count": 4,
   "id": "4db6b3e2-99eb-4bb7-b9ae-554bee05afb7",
   "metadata": {},
   "outputs": [
    {
     "name": "stdout",
     "output_type": "stream",
     "text": [
      "50000\n",
      "52000\n"
     ]
    }
   ],
   "source": [
    "class Employee:\n",
    "    \n",
    "    raise_amount=1.04\n",
    "    \n",
    "    def __init__(self,first,last,pay):\n",
    "        self.first=first;\n",
    "        self.last=last;\n",
    "        self.pay=pay\n",
    "\n",
    "    def fullname(self):    #defing the function\n",
    "        return '{} {}'.format(self.first,self.last)\n",
    "\n",
    "    def apply_raise(self):\n",
    "        self.pay =int(self.pay * self.raise_amount)    #accessing class variable using intsnace\n",
    "\n",
    "emp1=Employee('Isa','Bella',50000)\n",
    "emp2=Employee('Zedd','Bee',60000)\n",
    "\n",
    "print(emp1.pay)\n",
    "emp1.apply_raise()\n",
    "print(emp1.pay)"
   ]
  },
  {
   "cell_type": "markdown",
   "id": "767040a6-da0d-4b48-9b9f-113e332a84db",
   "metadata": {},
   "source": [
    "<H1 style='color:#DE006F'>Using __dict__ to Inspect Instance and Class Attributes</H1>"
   ]
  },
  {
   "cell_type": "code",
   "execution_count": 6,
   "id": "3ff3efa4-6ad7-447d-8dcf-38c97ae8a366",
   "metadata": {},
   "outputs": [
    {
     "name": "stdout",
     "output_type": "stream",
     "text": [
      "{'first': 'Isa', 'last': 'Bella', 'pay': 50000}\n",
      "{'__module__': '__main__', 'raise_amount': 1.04, '__init__': <function Employee.__init__ at 0x000001DADD202CA0>, 'fullname': <function Employee.fullname at 0x000001DADD202340>, 'apply_raise': <function Employee.apply_raise at 0x000001DADD202FC0>, '__dict__': <attribute '__dict__' of 'Employee' objects>, '__weakref__': <attribute '__weakref__' of 'Employee' objects>, '__doc__': None}\n"
     ]
    }
   ],
   "source": [
    "class Employee:\n",
    "    \n",
    "    raise_amount=1.04\n",
    "    \n",
    "    def __init__(self,first,last,pay):\n",
    "        self.first=first;\n",
    "        self.last=last;\n",
    "        self.pay=pay\n",
    "\n",
    "    def fullname(self):    #defing the function\n",
    "        return '{} {}'.format(self.first,self.last)\n",
    "\n",
    "    def apply_raise(self):\n",
    "        self.pay =int(self.pay * self.raise_amount)    #accessing class variable using intsnace\n",
    "\n",
    "emp1=Employee('Isa','Bella',50000)\n",
    "emp2=Employee('Zedd','Bee',60000)\n",
    "\n",
    "print(emp1.__dict__)   #we can see that the instance emp1 does not contain the class variable(raise_amount)\n",
    "print(Employee.__dict__)  #we can see that the Class Employee does not contain the class variable "
   ]
  },
  {
   "cell_type": "markdown",
   "id": "cc1e40b2-2d47-45d8-b442-c3170d3d3d41",
   "metadata": {},
   "source": [
    "<h1 style='color:#DE006F'>CHANGING THE CLASS VARIABLE USING THE CLASS NAME</h1>"
   ]
  },
  {
   "cell_type": "code",
   "execution_count": 10,
   "id": "40a7e786-72b1-488b-a0c1-eb4bdfb600d8",
   "metadata": {},
   "outputs": [
    {
     "name": "stdout",
     "output_type": "stream",
     "text": [
      "1.05\n",
      "50000\n",
      "52500\n"
     ]
    }
   ],
   "source": [
    "class Employee:\n",
    "    \n",
    "    raise_amount=1.04\n",
    "    \n",
    "    def __init__(self,first,last,pay):\n",
    "        self.first=first;\n",
    "        self.last=last;\n",
    "        self.pay=pay\n",
    "\n",
    "    def fullname(self):    #defing the function\n",
    "        return '{} {}'.format(self.first,self.last)\n",
    "\n",
    "    def apply_raise(self):\n",
    "        self.pay =int(self.pay * self.raise_amount)    #accessing class variable using intsnace\n",
    "\n",
    "emp1=Employee('Isa','Bella',50000)\n",
    "emp2=Employee('Zedd','Bee',60000)\n",
    "\n",
    "Employee.raise_amount=1.05\n",
    "\n",
    "print(Employee.raise_amount)\n",
    "print(emp1.pay)\n",
    "emp1.apply_raise()\n",
    "print(emp1.pay)\n",
    "\n"
   ]
  },
  {
   "cell_type": "markdown",
   "id": "a24c1cad-dd79-4370-8bfb-e2058ec2aea1",
   "metadata": {},
   "source": [
    "<h1 style='color:#DE006F'>CHANGING THE CLASS VARIABLE USING THE INTSANCE</h1>"
   ]
  },
  {
   "cell_type": "code",
   "execution_count": 14,
   "id": "4d0f25e6-e7be-48d6-9e07-112ea3e912e4",
   "metadata": {},
   "outputs": [
    {
     "name": "stdout",
     "output_type": "stream",
     "text": [
      "{'first': 'Isa', 'last': 'Bella', 'pay': 50000, 'raise_amount': 1.05}\n",
      "1.05\n",
      "50000\n",
      "52500\n",
      "60000\n"
     ]
    }
   ],
   "source": [
    "class Employee:\n",
    "    \n",
    "    raise_amount=1.04\n",
    "    \n",
    "    def __init__(self,first,last,pay):\n",
    "        self.first=first;\n",
    "        self.last=last;\n",
    "        self.pay=pay\n",
    "\n",
    "    def fullname(self):    #defing the function\n",
    "        return '{} {}'.format(self.first,self.last)\n",
    "\n",
    "    def apply_raise(self):\n",
    "        self.pay =int(self.pay * self.raise_amount)    #accessing class variable using intsnace\n",
    "\n",
    "emp1=Employee('Isa','Bella',50000)\n",
    "emp2=Employee('Zedd','Bee',60000)\n",
    "\n",
    "emp1.raise_amount=1.05  3using the instance\n",
    "\n",
    "print(emp1.__dict__)\n",
    "print(emp1.raise_amount)\n",
    "print(emp1.pay)\n",
    "emp1.apply_raise()\n",
    "print(emp1.pay)\n",
    "print(emp2.pay)  #did not change the pay for employee 2"
   ]
  },
  {
   "cell_type": "markdown",
   "id": "02d67ca9-daf4-426e-913e-1b5662adabf0",
   "metadata": {},
   "source": [
    "<H5>EXAMPLE 2</H5>"
   ]
  },
  {
   "cell_type": "code",
   "execution_count": 16,
   "id": "b117eedb-9fd9-4b06-8ef5-64c588737079",
   "metadata": {},
   "outputs": [
    {
     "name": "stdout",
     "output_type": "stream",
     "text": [
      "0\n",
      "2\n"
     ]
    }
   ],
   "source": [
    "#Incrementing the 'numOfEmp' every time we create one\n",
    "\n",
    "class Employee:\n",
    "    numOfEmp=0\n",
    "    \n",
    "    raise_amount=1.04\n",
    "    \n",
    "    def __init__(self,first,last,pay):\n",
    "        self.first=first;\n",
    "        self.last=last;\n",
    "        self.pay=pay\n",
    "        Employee.numOfEmp+=1\n",
    "\n",
    "    def fullname(self):    #defing the function\n",
    "        return '{} {}'.format(self.first,self.last)\n",
    "\n",
    "    def apply_raise(self):\n",
    "        self.pay =int(self.pay * self.raise_amount)    #accessing class variable using intsnace\n",
    "\n",
    "print(Employee.numOfEmp)     #no employee till now\n",
    "\n",
    "emp1=Employee('Isa','Bella',50000)\n",
    "emp2=Employee('Zedd','Bee',60000)\n",
    "\n",
    "print(Employee.numOfEmp)   #2 employees created"
   ]
  },
  {
   "cell_type": "code",
   "execution_count": null,
   "id": "7a90ffbd-cc7d-4f38-a8dd-029727535c68",
   "metadata": {},
   "outputs": [],
   "source": []
  }
 ],
 "metadata": {
  "kernelspec": {
   "display_name": "Python 3 (ipykernel)",
   "language": "python",
   "name": "python3"
  },
  "language_info": {
   "codemirror_mode": {
    "name": "ipython",
    "version": 3
   },
   "file_extension": ".py",
   "mimetype": "text/x-python",
   "name": "python",
   "nbconvert_exporter": "python",
   "pygments_lexer": "ipython3",
   "version": "3.12.4"
  }
 },
 "nbformat": 4,
 "nbformat_minor": 5
}
